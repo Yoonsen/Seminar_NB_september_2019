{
 "cells": [
  {
   "cell_type": "markdown",
   "metadata": {},
   "source": [
    "### Oppstart"
   ]
  },
  {
   "cell_type": "markdown",
   "metadata": {},
   "source": [
    "### Preamble"
   ]
  },
  {
   "cell_type": "code",
   "execution_count": null,
   "metadata": {},
   "outputs": [],
   "source": [
    "from dhlab.module_update import update, css\n",
    "plot = lambda x,lw=3,alpha=0.8: x.plot(figsize=(12, 5), lw=lw, alpha=alpha)\n",
    "import dhlab.nbtext as nb\n",
    "from dhlab.nbtext import vekstdiagram, make_graph, get_urn, relaterte_ord\n",
    "\n",
    "%matplotlib inline"
   ]
  },
  {
   "cell_type": "code",
   "execution_count": null,
   "metadata": {},
   "outputs": [],
   "source": [
    "import warnings\n",
    "warnings.filterwarnings('ignore')\n",
    "css()"
   ]
  },
  {
   "cell_type": "markdown",
   "metadata": {},
   "source": [
    "## Narrative buer\n",
    "\n",
    "Basert på Kurt Vonneguts video om narrative buer: [![video](https://img.youtube.com/vi/GOGru_4z1Vc/0.jpg)](https://www.youtube.com/watch?v=GOGru_4z1Vc&t=249s)\n",
    "\n"
   ]
  },
  {
   "cell_type": "markdown",
   "metadata": {},
   "source": [
    "## Finn bøker\n",
    "\n",
    "Finner bøker om *Morgan Kane* med korpus-kommandoen `book_urn()`, og legg til nødvendig metadata."
   ]
  },
  {
   "cell_type": "code",
   "execution_count": null,
   "metadata": {},
   "outputs": [],
   "source": [
    "# Hent URN-er, lag korpus med book_urn()\n",
    "\n",
    "urner = nb.book_urn(author=\"masterson%louis%\", period=(1960, 1990), title='%kane%', )\n",
    "urner"
   ]
  },
  {
   "cell_type": "markdown",
   "metadata": {},
   "source": [
    "Indeksen kan brukes sammen **urner[]** for å referere til en bok. Referansen og **urner[]** kan brukes om hverandre. "
   ]
  },
  {
   "cell_type": "markdown",
   "metadata": {},
   "source": [
    "### Sett av ord for å sjekke mot. \n",
    "\n",
    "For å lage et sett ord, er det ikke verre enn å bare liste opp ord som kan passe. For hjelp til å konstruere et passende sett av ord er kommandoen `relaterte_ord(startord)` grei å bruke; den samler sammen en del ord semantisk knyttet til `startord`. Samme operasjon som vises under galakser i NB N-gram."
   ]
  },
  {
   "cell_type": "code",
   "execution_count": null,
   "metadata": {},
   "outputs": [],
   "source": [
    "kampord = \"\"\"kuler kulen kulene revolver revolveren\n",
    "gevær geværet krutt kruttet hylse hylsen\n",
    "skuddet sår skudd såret blod blodet skadet\n",
    "skadene slag slagene slaget spark sparket\"\"\".split()"
   ]
  },
  {
   "cell_type": "code",
   "execution_count": null,
   "metadata": {
    "scrolled": true
   },
   "outputs": [],
   "source": [
    "glad = relaterte_ord('munter, avslappet, plystret, lettet', 140)\n",
    "glad"
   ]
  },
  {
   "cell_type": "code",
   "execution_count": null,
   "metadata": {},
   "outputs": [],
   "source": [
    "tilfeldige_ord =  \"revolver hjalp snerret freste tennene pannen nevene neven hansken Smith beltet kinnet slaget kulen kulene skuddet traff sneiet ørken hesten\".split()"
   ]
  },
  {
   "cell_type": "markdown",
   "metadata": {
    "collapsed": true
   },
   "source": [
    "## Lag buer for ordene i en bestemt bok\n",
    "\n",
    "Bruk et av elementene i trefflisten, eller om URN-en er kjent, bruk den."
   ]
  },
  {
   "cell_type": "code",
   "execution_count": null,
   "metadata": {},
   "outputs": [],
   "source": [
    "plot(nb.plot_book_wordbags( [2015111008045, 'Masterson, Louis', 'Dette er døden, sẽnor Kane', 1980], {'gladord': glad}, window=5000, pr=100))"
   ]
  },
  {
   "cell_type": "code",
   "execution_count": null,
   "metadata": {},
   "outputs": [],
   "source": [
    "plot(nb.plot_book_wordbags(2015111008045,{'kampord': kampord,'gladord':glad}, window = 5000))"
   ]
  },
  {
   "cell_type": "code",
   "execution_count": null,
   "metadata": {},
   "outputs": [],
   "source": [
    "# prøve andre bøker"
   ]
  }
 ],
 "metadata": {
  "hide_input": false,
  "kernelspec": {
   "display_name": "Python 3",
   "language": "python",
   "name": "python3"
  },
  "language_info": {
   "codemirror_mode": {
    "name": "ipython",
    "version": 3
   },
   "file_extension": ".py",
   "mimetype": "text/x-python",
   "name": "python",
   "nbconvert_exporter": "python",
   "pygments_lexer": "ipython3",
   "version": "3.7.3"
  }
 },
 "nbformat": 4,
 "nbformat_minor": 2
}
