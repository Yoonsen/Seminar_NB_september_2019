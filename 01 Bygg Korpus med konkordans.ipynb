{
 "cells": [
  {
   "cell_type": "markdown",
   "metadata": {},
   "source": [
    "## Oppstartceller"
   ]
  },
  {
   "cell_type": "code",
   "execution_count": null,
   "metadata": {},
   "outputs": [],
   "source": [
    "import dhlab.nbtext as nb\n",
    "from dhlab.module_update import css\n",
    "%matplotlib inline"
   ]
  },
  {
   "cell_type": "code",
   "execution_count": null,
   "metadata": {},
   "outputs": [],
   "source": [
    "css()"
   ]
  },
  {
   "cell_type": "markdown",
   "metadata": {
    "slideshow": {
     "slide_type": "slide"
    }
   },
   "source": [
    "## Bygg korpus\n",
    "\n",
    "Korpuset er en definisjon av et korpus, og består av en samling URN-er.\n"
   ]
  },
  {
   "cell_type": "markdown",
   "metadata": {},
   "source": [
    "Korpuset defineres med metadata som dewey, emneord, navn , år, etc. Her kan [Webdewey](http://deweysearchno.pansoft.de/webdeweysearch/index.html) være til god hjelp.\n",
    "\n",
    "Kommandoen er `book_urn()`"
   ]
  },
  {
   "cell_type": "code",
   "execution_count": null,
   "metadata": {},
   "outputs": [],
   "source": [
    "nb.book_corpus(ddk='9%', subject='fiske', limit=10)\n"
   ]
  },
  {
   "cell_type": "code",
   "execution_count": null,
   "metadata": {},
   "outputs": [],
   "source": []
  },
  {
   "cell_type": "markdown",
   "metadata": {},
   "source": [
    "#### Legg korpuset i en variabel\n",
    "\n",
    "Variabelen brukes til å referere til korpuset senere"
   ]
  },
  {
   "cell_type": "code",
   "execution_count": null,
   "metadata": {},
   "outputs": [],
   "source": [
    "korpus = nb.book_corpus(ddk=\"9%\", subject=\"reindrift\", period=(1960, 2020))\n",
    "korpus"
   ]
  },
  {
   "cell_type": "markdown",
   "metadata": {},
   "source": [
    "Prøve å definere et eget korpus, eksperimenter med forskjellige kombinasjoner. Bruk `shift-tab` for å se hva som kan fylles inn. Hold gjerne `limit=10` eller mindre i første omgang."
   ]
  },
  {
   "cell_type": "code",
   "execution_count": null,
   "metadata": {},
   "outputs": [],
   "source": [
    "# legg inn egen kommando her\n"
   ]
  },
  {
   "cell_type": "code",
   "execution_count": null,
   "metadata": {},
   "outputs": [],
   "source": []
  },
  {
   "cell_type": "markdown",
   "metadata": {},
   "source": [
    "## Konkordans\n",
    "\n",
    "Kommando for å lage konkordanser fra et sett med URN-er er `urn_concordance()` (OBS! Korpuset bør være under 100 bøker for responsivitet)"
   ]
  },
  {
   "cell_type": "code",
   "execution_count": null,
   "metadata": {},
   "outputs": [],
   "source": [
    "nb.urn_concordance(word = 'skreien', urns = korpus, before = 10, after = 10)"
   ]
  },
  {
   "cell_type": "markdown",
   "metadata": {},
   "source": [
    "## Hent fra fritekst\n",
    "\n",
    "Søk ette bøker på [nb.no](https://www.nb.no/search?q=), legg til *debugon* sammen med søkekriteriet. Kopier hele siden (ctrl-A) og lim inn resultatet mellom \"\"\" ... \"\"\" nedenfor. Kommandoen som brukes er `pure_urn(<tekst>)` som prøver å finne URN-er i alt mulig av tekst."
   ]
  },
  {
   "cell_type": "code",
   "execution_count": null,
   "metadata": {},
   "outputs": [],
   "source": [
    "fritt_korpus = nb.pure_urn(\"\"\"\n",
    "\n",
    "--- lim inn tekst her med ctrl-V\n",
    "\turn\tauthor\ttitle\tyear\n",
    "0\t2007042502003\t\tFragment av samisk historie\t1995\n",
    "1\t2012102306026\tPrestbakmo, Hans\tNatur, tanker og mennesker i grenseland\t2002\n",
    "2\t2014071608184\tSommerseth, Ingrid\tVillreinfangst og tamreindrift i indre Troms\t2009\n",
    "3\t2010032307035\t\tI villreinens rike\t1999\n",
    "4\t2012111607025\tHenriksen, Vera\tVeodalen\t2001\n",
    "5\t2014050706037\tAndersen, Roy\tRedningsmenn og lykkejegere\t2011\n",
    "6\t2015082548041\t\tFra villreinjakt til reindrift\t2005\n",
    "7\t2013120906074\t\tSjøsamene ved Varangerfjorden\t2005\n",
    "8\t2007072300047\tVorren, Ørnulv\tSamekulturen\t1976\n",
    "9\t2009072901035\tDaugstad, Karoline\tBergverksbyens omland\t199\n",
    "\n",
    "\"\"\")"
   ]
  },
  {
   "cell_type": "code",
   "execution_count": null,
   "metadata": {},
   "outputs": [],
   "source": []
  },
  {
   "cell_type": "code",
   "execution_count": null,
   "metadata": {},
   "outputs": [],
   "source": [
    "fritt_korpus[:5]"
   ]
  },
  {
   "cell_type": "code",
   "execution_count": null,
   "metadata": {},
   "outputs": [],
   "source": [
    "nb.urn_concordance(word='arbeid', urns = fritt_korpus)"
   ]
  }
 ],
 "metadata": {
  "kernelspec": {
   "display_name": "Python 3",
   "language": "python",
   "name": "python3"
  },
  "language_info": {
   "codemirror_mode": {
    "name": "ipython",
    "version": 3
   },
   "file_extension": ".py",
   "mimetype": "text/x-python",
   "name": "python",
   "nbconvert_exporter": "python",
   "pygments_lexer": "ipython3",
   "version": "3.7.3"
  }
 },
 "nbformat": 4,
 "nbformat_minor": 2
}
