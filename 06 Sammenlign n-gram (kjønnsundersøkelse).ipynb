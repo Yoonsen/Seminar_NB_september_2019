{
 "cells": [
  {
   "cell_type": "markdown",
   "metadata": {},
   "source": [
    "### Oppstart"
   ]
  },
  {
   "cell_type": "code",
   "execution_count": null,
   "metadata": {},
   "outputs": [],
   "source": [
    "from dhlab.module_update import update, css\n",
    "import dhlab.nbtext as nb\n",
    "from dhlab.nbtext import difference\n",
    "%matplotlib inline"
   ]
  },
  {
   "cell_type": "code",
   "execution_count": null,
   "metadata": {},
   "outputs": [],
   "source": [
    "css()"
   ]
  },
  {
   "cell_type": "code",
   "execution_count": null,
   "metadata": {},
   "outputs": [],
   "source": [
    "plot = lambda x, lw=3: x.plot(figsize=(10,5), lw=lw)"
   ]
  },
  {
   "cell_type": "markdown",
   "metadata": {},
   "source": [
    "### NB N-gram\n",
    "\n",
    "Kommando `nb_ngram()` og `difference()` gås gjennom her. Data fra webtjenesten[NB N-gram](https://www.nb.no/sp_tjenester/beta/ngram_1/trends#ngram/query?terms=i%2C+p%C3%A5&lang=all&case_sens=0&freq=rel&corpus=bok)."
   ]
  },
  {
   "cell_type": "markdown",
   "metadata": {},
   "source": [
    "# Analyse med N-grammer\n",
    "\n",
    "Her testes Simone de Beauvoirs tese om at kvinnen er det **annet kjønn**, sekundær sammenlignet med mannen, utstyrt med passive egenskaper.\n",
    "\n",
    "I analysen sammenlignes frekvensene i forskjellige kontekster."
   ]
  },
  {
   "cell_type": "code",
   "execution_count": null,
   "metadata": {},
   "outputs": [],
   "source": [
    "pron = nb.nb_ngram('han, hun', years = (1980, 2000), smooth = 1, corpus = 'bok')\n",
    "pron"
   ]
  },
  {
   "cell_type": "markdown",
   "metadata": {},
   "source": [
    "## Resultatet er en dataramme\n",
    "\n",
    "Datarammer brukes flittig i alt fra ngrammer til tekstanalyse. Matrisene er en måte å representere kvantitative språklige data. Ikke så ulikt det noen kan være vant med fra excel-ark.\n",
    "\n",
    "Når en navn er knyttet til data, er det bare å skrive navnet i en celle for å se verdien, som gjort ovenfor. Vil du se et plot skriver du plot() bak variabelen."
   ]
  },
  {
   "cell_type": "code",
   "execution_count": null,
   "metadata": {
    "scrolled": true
   },
   "outputs": [],
   "source": [
    "plot(pron);"
   ]
  },
  {
   "cell_type": "markdown",
   "metadata": {},
   "source": [
    "I sammenligningene brukes de aggregerte tallene. Her gjennomsnittet.\n",
    "\n",
    "Så Beauvoirs tese ser ut til holde, pronomenet *han* brukes over dobbelt så mye som *hun*."
   ]
  },
  {
   "cell_type": "code",
   "execution_count": null,
   "metadata": {},
   "outputs": [],
   "source": [
    "pron.mean()['han']/pron.mean()['hun']"
   ]
  },
  {
   "cell_type": "code",
   "execution_count": null,
   "metadata": {},
   "outputs": [],
   "source": [
    "nb.frame(pron.mean())"
   ]
  },
  {
   "cell_type": "markdown",
   "metadata": {},
   "source": [
    "## Tesens andre del\n",
    "\n",
    "Dataene i rammen pron kan divideres og ganges for å frem forskjeller. La oss se litt på det og undersøke forskjeller mellom maskuling og feminine referanser med utgangspunkt i forholdstallene over en periode.\n",
    "\n",
    "Utgangspunktet er forholdstallet mellom *han* og *hun*, skrevet som han/hun = 2.3. Det betyr at alle kontekster som har *han* i seg skal være omtrent 2.3 ganger høyere enn tilsvarende med *hun*. Er forskjellen større enn 2.3 er konteksten mer mannlig, tilsvarende kvinnelig om den er under 2.3. Utregningen er sånn at *han/hun* utgjørgrunnlinjen, slik at varianter som er høyere enn 1 trekker mot det mannlige, og under 1 mot det kvinnelige.\n",
    "\n",
    "For å sjekke forskjeller er det en kommando `difference()` som måler forholdet mellom 4 størrelser, de to siste vil i de første tilfellene var forholdet mellom _han_ og _hun_. De to første er de som skal testes. Maskulin kontekst først, deretter feminin.\n"
   ]
  },
  {
   "cell_type": "code",
   "execution_count": null,
   "metadata": {},
   "outputs": [],
   "source": [
    "# ham = acc(han), henne = acc(hun): acc(han)/acc(hun) < han/hun\n",
    "difference('ham', 'henne', 'han','hun')"
   ]
  },
  {
   "cell_type": "code",
   "execution_count": null,
   "metadata": {},
   "outputs": [],
   "source": [
    "difference('hans', 'hennes', 'han', 'hun')"
   ]
  },
  {
   "cell_type": "markdown",
   "metadata": {},
   "source": [
    "## Subjekt for verb\n",
    "\n",
    "Test andre kontekster ved hjelp av difference()\n",
    "Husk at de to siste ordene danner basisforholdet, så om vi skriver\n",
    "\n",
    "difference(t1, t2, r1, r2,..)\n",
    "Så er uttrykket som regnes ut relativt til r1/r2 - i sin helhet (t1/t2)/(r1/r2). Tall over 1 heller mot det som uttrykkes i r1, tall under 1 går mot r2."
   ]
  },
  {
   "cell_type": "code",
   "execution_count": null,
   "metadata": {},
   "outputs": [],
   "source": [
    "nb.difference('han har ment', 'hun har ment', 'han', 'hun')"
   ]
  },
  {
   "cell_type": "code",
   "execution_count": null,
   "metadata": {},
   "outputs": [],
   "source": [
    "nb.difference('han har følt', 'hun har følt', 'han', 'hun')"
   ]
  },
  {
   "cell_type": "code",
   "execution_count": null,
   "metadata": {},
   "outputs": [],
   "source": [
    "nb.difference('han føler', 'hun føler', 'han', 'hun')"
   ]
  },
  {
   "cell_type": "code",
   "execution_count": null,
   "metadata": {},
   "outputs": [],
   "source": [
    "nb.difference('han gråter', 'hun gråter', 'han', 'hun')"
   ]
  },
  {
   "cell_type": "code",
   "execution_count": null,
   "metadata": {},
   "outputs": [],
   "source": [
    "nb.difference('han har grått', 'hun har grått', 'han', 'hun')"
   ]
  },
  {
   "cell_type": "markdown",
   "metadata": {},
   "source": [
    "## Kjønning av substantiver"
   ]
  },
  {
   "cell_type": "code",
   "execution_count": null,
   "metadata": {},
   "outputs": [],
   "source": [
    "nb.difference('vesken hans', 'vesken hennes', 'hans', 'hennes')"
   ]
  },
  {
   "cell_type": "code",
   "execution_count": null,
   "metadata": {},
   "outputs": [],
   "source": [
    "nb.difference('bilen hans', 'bilen hennes', 'hans', 'hennes')"
   ]
  },
  {
   "cell_type": "code",
   "execution_count": null,
   "metadata": {},
   "outputs": [],
   "source": []
  },
  {
   "cell_type": "markdown",
   "metadata": {},
   "source": [
    "## Andre kontekster\n"
   ]
  },
  {
   "cell_type": "code",
   "execution_count": null,
   "metadata": {},
   "outputs": [],
   "source": [
    "nb.difference('rike menn', 'rike kvinner', 'menn', 'kvinner')"
   ]
  },
  {
   "cell_type": "code",
   "execution_count": null,
   "metadata": {},
   "outputs": [],
   "source": [
    "nb.difference('fattige menn', 'fattige kvinner', 'menn', 'kvinner')"
   ]
  },
  {
   "cell_type": "code",
   "execution_count": null,
   "metadata": {},
   "outputs": [],
   "source": [
    "nb.difference('smarte menn', 'smarte kvinner', 'menn', 'kvinner')"
   ]
  },
  {
   "cell_type": "markdown",
   "metadata": {},
   "source": [
    "# Øvelse\n",
    "\n",
    "Repeat using newspaper data"
   ]
  },
  {
   "cell_type": "code",
   "execution_count": null,
   "metadata": {},
   "outputs": [],
   "source": [
    "plot(nb.nb_ngram('han, hun', corpus='avis', years=(1980,2000)))"
   ]
  },
  {
   "cell_type": "code",
   "execution_count": null,
   "metadata": {},
   "outputs": [],
   "source": []
  }
 ],
 "metadata": {
  "hide_input": false,
  "kernelspec": {
   "display_name": "Python 3",
   "language": "python",
   "name": "python3"
  },
  "language_info": {
   "codemirror_mode": {
    "name": "ipython",
    "version": 3
   },
   "file_extension": ".py",
   "mimetype": "text/x-python",
   "name": "python",
   "nbconvert_exporter": "python",
   "pygments_lexer": "ipython3",
   "version": "3.7.3"
  }
 },
 "nbformat": 4,
 "nbformat_minor": 2
}
